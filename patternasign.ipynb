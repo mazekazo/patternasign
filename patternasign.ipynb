{
 "cells": [
  {
   "cell_type": "markdown",
   "id": "de95259a",
   "metadata": {},
   "source": [
    "## Mazen Gaber Mahmoud\n",
    "## 20221372110"
   ]
  },
  {
   "cell_type": "code",
   "execution_count": 5,
   "id": "c030c6c1",
   "metadata": {},
   "outputs": [],
   "source": [
    "import pandas as pd\n",
    "from sklearn.model_selection import train_test_split\n",
    "from sklearn.naive_bayes import GaussianNB\n",
    "from sklearn.metrics import confusion_matrix\n",
    "\n",
    "\n",
    "pa = \"C:\\\\Users\\\\Enter Store\\\\Desktop\\\\New folder\\\\adult.data\"\n",
    "columns = [\n",
    "    \"age\", \"workclass\", \"fnlwgt\", \"education\", \"education-num\", \"marital-status\",\n",
    "    \"occupation\", \"relationship\", \"race\", \"sex\", \"capital-gain\", \"capital-loss\",\n",
    "    \"hours-per-week\", \"native-country\", \"income\"\n",
    "]\n",
    "data = pd.read_csv(pa, names=columns, na_values=' ?', skipinitialspace=True)"
   ]
  },
  {
   "cell_type": "markdown",
   "id": "d7da1022",
   "metadata": {},
   "source": [
    "## Preproccesing data and Training Naive Bayes classifier"
   ]
  },
  {
   "cell_type": "code",
   "execution_count": 6,
   "id": "88a6e724",
   "metadata": {},
   "outputs": [
    {
     "data": {
      "text/plain": [
       "GaussianNB()"
      ]
     },
     "execution_count": 6,
     "metadata": {},
     "output_type": "execute_result"
    }
   ],
   "source": [
    "# Drop rows with missing values\n",
    "data = data.dropna()\n",
    "# Encode categorical variables\n",
    "data = pd.get_dummies(data, columns=[\"workclass\", \"education\", \"marital-status\", \"occupation\", \"relationship\", \"race\", \"sex\", \"native-country\"])\n",
    "# Map income to binary values (0 for <=50K, 1 for >50K)\n",
    "data['income'] = data['income'].map({'<=50K': 0, '>50K': 1})\n",
    "\n",
    "# Split data into features (X) and target variable (y)\n",
    "X = data.drop('income', axis=1)\n",
    "y = data['income']\n",
    "\n",
    "\n",
    "\n",
    "X_train, X_test, y_train, y_test = train_test_split(X, y, test_size=0.2, random_state=42)\n",
    "\n",
    "nb_classifier = GaussianNB()\n",
    "nb_classifier.fit(X_train, y_train)\n"
   ]
  },
  {
   "cell_type": "markdown",
   "id": "b8668be3",
   "metadata": {},
   "source": [
    "## Compute and predict Sensitivy and Specifity"
   ]
  },
  {
   "cell_type": "code",
   "execution_count": 7,
   "id": "99927af9",
   "metadata": {},
   "outputs": [
    {
     "name": "stdout",
     "output_type": "stream",
     "text": [
      "Sensitivity: 0.32017823042647997\n",
      "Specificity: 0.9514366653176851\n"
     ]
    }
   ],
   "source": [
    "y_pred = nb_classifier.predict(X_test)\n",
    "tn, fp, fn, tp = confusion_matrix(y_test, y_pred).ravel()\n",
    "sensitivity = tp / (tp + fn)\n",
    "specificity = tn / (tn + fp)\n",
    "print(\"Sensitivity:\", sensitivity)\n",
    "print(\"Specificity:\", specificity)"
   ]
  },
  {
   "cell_type": "markdown",
   "id": "0c7d6909",
   "metadata": {},
   "source": [
    "## Posterior probability"
   ]
  },
  {
   "cell_type": "code",
   "execution_count": 8,
   "id": "558ccb00",
   "metadata": {},
   "outputs": [
    {
     "name": "stdout",
     "output_type": "stream",
     "text": [
      "Posterior Probability of making over 50K a year: [4.31088775e-03 1.37859620e-02 1.71229441e-02 ... 1.00000000e+00\n",
      " 6.39925511e-03 6.53278628e-04]\n",
      "Average posterior probability of making over 50K a year: 0.12424877416671441\n"
     ]
    }
   ],
   "source": [
    "posterior_probs = nb_classifier.predict_proba(X_test)\n",
    "positive_class_probs = posterior_probs[:, 1]  # Probability of income >50K\n",
    "print(\"Posterior Probability of making over 50K a year:\", positive_class_probs)\n",
    "average_prob = positive_class_probs.mean()\n",
    "print(\"Average posterior probability of making over 50K a year:\", average_prob)"
   ]
  },
  {
   "cell_type": "code",
   "execution_count": null,
   "id": "1702e9e0",
   "metadata": {},
   "outputs": [],
   "source": []
  }
 ],
 "metadata": {
  "kernelspec": {
   "display_name": "Python 3 (ipykernel)",
   "language": "python",
   "name": "python3"
  },
  "language_info": {
   "codemirror_mode": {
    "name": "ipython",
    "version": 3
   },
   "file_extension": ".py",
   "mimetype": "text/x-python",
   "name": "python",
   "nbconvert_exporter": "python",
   "pygments_lexer": "ipython3",
   "version": "3.9.13"
  }
 },
 "nbformat": 4,
 "nbformat_minor": 5
}
